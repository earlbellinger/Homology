{
 "cells": [
  {
   "cell_type": "code",
   "execution_count": 1,
   "metadata": {},
   "outputs": [],
   "source": [
    "from sympy import *\n",
    "from IPython.display import display, Math, Latex"
   ]
  },
  {
   "cell_type": "markdown",
   "metadata": {},
   "source": [
    "- `x -> mass` \n",
    "- `y -> composition (mean molecular weight)` \n",
    "\n",
    "\n",
    "- `z -> radius`\n",
    "- `p -> pressure`\n",
    "- `t -> temperature`\n",
    "- `s -> luminosity` \n",
    "- `d -> density` \n",
    "- `e -> energy` \n",
    "- `k -> opacity`\n",
    "\n",
    "power law exponents: \n",
    "- `alpha  -> pressure    (density power law)`\n",
    "- `-delta -> temperature (density power law)`\n",
    "- `phi    -> composition (density power law)`\n",
    "- `lambda -> density     (energy  power law)`\n",
    "- `nu     -> temperature (energy  power law)`\n",
    "- `a      -> pressure    (opacity power law)`\n",
    "- `b      -> temperature (opacity power law)`\n",
    "\n",
    "\n",
    "- `tilde epsilon -> ratio of energy generation constants for the two models` \n",
    "- `tilde kappa   -> ratio of           opacity constants for the two models` \n",
    "\n",
    "\n",
    "- `z = x^z1 y^z2 (tilde epsilon)^z3 (tilde kappa)^z4`\n",
    "\n",
    "etc. "
   ]
  },
  {
   "cell_type": "code",
   "execution_count": 2,
   "metadata": {},
   "outputs": [],
   "source": [
    "init_printing()"
   ]
  },
  {
   "cell_type": "code",
   "execution_count": 3,
   "metadata": {},
   "outputs": [],
   "source": [
    "# Kippenhahn, Weigert, Weiss pg. 236 \n",
    "alpha, delta, lambd, nu, phi, a, b = symbols('alpha, delta, lambda, nu, phi, a, b')\n",
    "z1,z2,z3,z4 = symbols('z1,z2,z3,z4')\n",
    "p1,p2,p3,p4 = symbols('p1,p2,p3,p4')\n",
    "t1,t2,t3,t4 = symbols('t1,t2,t3,t4')\n",
    "s1,s2,s3,s4 = symbols('s1,s2,s3,s4')"
   ]
  },
  {
   "cell_type": "code",
   "execution_count": 4,
   "metadata": {},
   "outputs": [],
   "source": [
    "LHS1 = Matrix([z1, p1, t1, s1])\n",
    "LHS2 = Matrix([z2, p2, t2, s2])\n",
    "LHS3 = Matrix([z3, p3, t3, s3])\n",
    "LHS4 = Matrix([z4, p4, t4, s4])\n",
    "\n",
    "RHS1 = Matrix([-1,  -2,         -1, -1])\n",
    "RHS2 = Matrix([phi,  0, -lambd*phi,  0])\n",
    "RHS3 = Matrix([0,    0,         -1,  0])\n",
    "RHS4 = Matrix([0,    0,          0, -1])"
   ]
  },
  {
   "cell_type": "code",
   "execution_count": 5,
   "metadata": {
    "scrolled": true
   },
   "outputs": [
    {
     "data": {
      "text/latex": [
       "$\\displaystyle \\left[\\begin{matrix}-3 & - \\alpha & \\delta & 0\\\\-4 & -1 & 0 & 0\\\\0 & \\alpha \\lambda & - \\delta \\lambda + \\nu & -1\\\\-4 & a & b - 4 & 1\\end{matrix}\\right]$"
      ],
      "text/plain": [
       "⎡-3  -α      δ      0 ⎤\n",
       "⎢                     ⎥\n",
       "⎢-4  -1      0      0 ⎥\n",
       "⎢                     ⎥\n",
       "⎢0   α⋅λ  -δ⋅λ + ν  -1⎥\n",
       "⎢                     ⎥\n",
       "⎣-4   a    b - 4    1 ⎦"
      ]
     },
     "metadata": {},
     "output_type": "display_data"
    }
   ],
   "source": [
    "LHS = Matrix([[-3,      -alpha,          delta,  0],\n",
    "              [-4,          -1,              0,  0],\n",
    "              [ 0, lambd*alpha, nu-lambd*delta, -1],\n",
    "              [-4,           a,            b-4,  1]])\n",
    "\n",
    "display(LHS)"
   ]
  },
  {
   "cell_type": "code",
   "execution_count": 6,
   "metadata": {
    "scrolled": true
   },
   "outputs": [
    {
     "data": {
      "text/latex": [
       "$\\displaystyle \\left[\\begin{matrix}-3 & - \\alpha & \\delta & 0\\\\-4 & -1 & 0 & 0\\\\0 & \\alpha \\lambda & - \\delta \\lambda + \\nu & -1\\\\-4 & a & b - 4 & 1\\end{matrix}\\right] \\left[\\begin{matrix}z_{i}\\\\p_{i}\\\\t_{i}\\\\s_{i}\\end{matrix}\\right]=\\left[\\begin{matrix}-1\\\\-2\\\\-1\\\\-1\\end{matrix}\\right],\\left[\\begin{matrix}\\phi\\\\0\\\\- \\lambda \\phi\\\\0\\end{matrix}\\right],\\left[\\begin{matrix}0\\\\0\\\\-1\\\\0\\end{matrix}\\right],\\left[\\begin{matrix}0\\\\0\\\\0\\\\-1\\end{matrix}\\right]$"
      ],
      "text/plain": [
       "<IPython.core.display.Math object>"
      ]
     },
     "metadata": {},
     "output_type": "display_data"
    }
   ],
   "source": [
    "display(Math(latex(LHS) + ' ' + \\\n",
    "             latex(Matrix(symbols('z_i, p_i, t_i, s_i'))) + '=' + \\\n",
    "             latex(RHS1) + ',' + \\\n",
    "             latex(RHS2) + ',' + \\\n",
    "             latex(RHS3) + ',' + \\\n",
    "             latex(RHS4)))"
   ]
  },
  {
   "cell_type": "code",
   "execution_count": 7,
   "metadata": {},
   "outputs": [
    {
     "name": "stdout",
     "output_type": "stream",
     "text": [
      "System 1\n"
     ]
    },
    {
     "data": {
      "text/latex": [
       "$\\displaystyle \\left[\\begin{matrix}- \\alpha p_{1} + \\delta t_{1} - 3 z_{1}\\\\- p_{1} - 4 z_{1}\\\\\\alpha \\lambda p_{1} - s_{1} + t_{1} \\left(- \\delta \\lambda + \\nu\\right)\\\\a p_{1} + s_{1} + t_{1} \\left(b - 4\\right) - 4 z_{1}\\end{matrix}\\right] = \\left[\\begin{matrix}-1\\\\-2\\\\-1\\\\-1\\end{matrix}\\right]$"
      ],
      "text/plain": [
       "⎡     -α⋅p₁ + δ⋅t₁ - 3⋅z₁     ⎤   ⎡-1⎤\n",
       "⎢                             ⎥   ⎢  ⎥\n",
       "⎢         -p₁ - 4⋅z₁          ⎥   ⎢-2⎥\n",
       "⎢                             ⎥ = ⎢  ⎥\n",
       "⎢ α⋅λ⋅p₁ - s₁ + t₁⋅(-δ⋅λ + ν) ⎥   ⎢-1⎥\n",
       "⎢                             ⎥   ⎢  ⎥\n",
       "⎣a⋅p₁ + s₁ + t₁⋅(b - 4) - 4⋅z₁⎦   ⎣-1⎦"
      ]
     },
     "metadata": {},
     "output_type": "display_data"
    }
   ],
   "source": [
    "print('System 1')\n",
    "display(Eq(LHS * LHS1, RHS1))"
   ]
  },
  {
   "cell_type": "code",
   "execution_count": 8,
   "metadata": {},
   "outputs": [
    {
     "data": {
      "image/png": "[encoded data removed]",
      "text/latex": [
       "$\\displaystyle z_{1} = \\frac{2 a \\delta + 2 \\alpha b + 2 \\alpha \\nu - 8 \\alpha - b + \\delta \\lambda + 2 \\delta - \\nu + 4}{4 a \\delta + 4 \\alpha b + 4 \\alpha \\nu - 16 \\alpha - 3 b + 3 \\delta \\lambda + 4 \\delta - 3 \\nu + 12}$"
      ],
      "text/plain": [
       "         2⋅a⋅δ + 2⋅α⋅b + 2⋅α⋅ν - 8⋅α - b + δ⋅λ + 2⋅δ - ν + 4    \n",
       "z₁ = ───────────────────────────────────────────────────────────\n",
       "     4⋅a⋅δ + 4⋅α⋅b + 4⋅α⋅ν - 16⋅α - 3⋅b + 3⋅δ⋅λ + 4⋅δ - 3⋅ν + 12"
      ]
     },
     "metadata": {},
     "output_type": "display_data"
    },
    {
     "data": {
      "image/png": "[encoded data removed]",
      "text/latex": [
       "$\\displaystyle p_{1} = \\frac{2 \\left(- b + \\delta \\lambda - \\nu + 4\\right)}{4 a \\delta + 4 \\alpha b + 4 \\alpha \\nu - 16 \\alpha - 3 b + 3 \\delta \\lambda + 4 \\delta - 3 \\nu + 12}$"
      ],
      "text/plain": [
       "                         2⋅(-b + δ⋅λ - ν + 4)                   \n",
       "p₁ = ───────────────────────────────────────────────────────────\n",
       "     4⋅a⋅δ + 4⋅α⋅b + 4⋅α⋅ν - 16⋅α - 3⋅b + 3⋅δ⋅λ + 4⋅δ - 3⋅ν + 12"
      ]
     },
     "metadata": {},
     "output_type": "display_data"
    },
    {
     "data": {
      "image/png": "[encoded data removed]",
      "text/latex": [
       "$\\displaystyle t_{1} = \\frac{2 \\left(a + \\alpha \\lambda + 1\\right)}{4 a \\delta + 4 \\alpha b + 4 \\alpha \\nu - 16 \\alpha - 3 b + 3 \\delta \\lambda + 4 \\delta - 3 \\nu + 12}$"
      ],
      "text/plain": [
       "                           2⋅(a + α⋅λ + 1)                      \n",
       "t₁ = ───────────────────────────────────────────────────────────\n",
       "     4⋅a⋅δ + 4⋅α⋅b + 4⋅α⋅ν - 16⋅α - 3⋅b + 3⋅δ⋅λ + 4⋅δ - 3⋅ν + 12"
      ]
     },
     "metadata": {},
     "output_type": "display_data"
    },
    {
     "data": {
      "image/png": "[encoded data removed]",
      "text/latex": [
       "$\\displaystyle s_{1} = \\frac{4 a \\delta - 2 a \\left(\\delta \\lambda - \\nu\\right) + 4 \\alpha b - 2 \\alpha \\lambda \\left(b - 4\\right) + 4 \\alpha \\nu - 16 \\alpha - 3 b + \\delta \\lambda + 4 \\delta - \\nu + 12}{4 a \\delta + 4 \\alpha b + 4 \\alpha \\nu - 16 \\alpha - 3 b + 3 \\delta \\lambda + 4 \\delta - 3 \\nu + 12}$"
      ],
      "text/plain": [
       "     4⋅a⋅δ - 2⋅a⋅(δ⋅λ - ν) + 4⋅α⋅b - 2⋅α⋅λ⋅(b - 4) + 4⋅α⋅ν - 16⋅α - 3⋅b + δ⋅λ \n",
       "s₁ = ─────────────────────────────────────────────────────────────────────────\n",
       "                   4⋅a⋅δ + 4⋅α⋅b + 4⋅α⋅ν - 16⋅α - 3⋅b + 3⋅δ⋅λ + 4⋅δ - 3⋅ν + 12\n",
       "\n",
       "+ 4⋅δ - ν + 12\n",
       "──────────────\n",
       "              "
      ]
     },
     "metadata": {},
     "output_type": "display_data"
    }
   ],
   "source": [
    "sol1 = solve(LHS * LHS1 - RHS1, LHS1)\n",
    "\n",
    "for key in sol1:\n",
    "    display(Eq(key, simplify(sol1[key])))"
   ]
  },
  {
   "cell_type": "code",
   "execution_count": 9,
   "metadata": {},
   "outputs": [
    {
     "data": {
      "image/png": "[encoded data removed]",
      "text/latex": [
       "$\\displaystyle A = \\frac{1}{4 \\alpha + \\frac{4 \\delta \\left(a + \\alpha \\lambda + 1\\right)}{b - \\delta \\lambda + \\nu - 4} - 3}$"
      ],
      "text/plain": [
       "                 1             \n",
       "A = ───────────────────────────\n",
       "          4⋅δ⋅(a + α⋅λ + 1)    \n",
       "    4⋅α + ───────────────── - 3\n",
       "           b - δ⋅λ + ν - 4     "
      ]
     },
     "metadata": {},
     "output_type": "display_data"
    },
    {
     "name": "stdout",
     "output_type": "stream",
     "text": [
      "Check that solutions agree with Kippenhahn\n"
     ]
    },
    {
     "data": {
      "image/png": "[encoded data removed]",
      "text/latex": [
       "$\\displaystyle z_{1} = \\frac{A}{2} + \\frac{1}{2}$"
      ],
      "text/plain": [
       "     A   1\n",
       "z₁ = ─ + ─\n",
       "     2   2"
      ]
     },
     "metadata": {},
     "output_type": "display_data"
    },
    {
     "data": {
      "text/plain": [
       "True"
      ]
     },
     "metadata": {},
     "output_type": "display_data"
    },
    {
     "data": {
      "image/png": "[encoded data removed]",
      "text/latex": [
       "$\\displaystyle p_{1} = - 2 A$"
      ],
      "text/plain": [
       "p₁ = -2⋅A"
      ]
     },
     "metadata": {},
     "output_type": "display_data"
    },
    {
     "data": {
      "text/plain": [
       "True"
      ]
     },
     "metadata": {},
     "output_type": "display_data"
    },
    {
     "data": {
      "image/png": "[encoded data removed]",
      "text/latex": [
       "$\\displaystyle t_{1} = \\frac{A \\left(3 - 4 \\alpha\\right) + 1}{2 \\delta}$"
      ],
      "text/plain": [
       "     A⋅(3 - 4⋅α) + 1\n",
       "t₁ = ───────────────\n",
       "           2⋅δ      "
      ]
     },
     "metadata": {},
     "output_type": "display_data"
    },
    {
     "data": {
      "text/plain": [
       "True"
      ]
     },
     "metadata": {},
     "output_type": "display_data"
    },
    {
     "data": {
      "image/png": "[encoded data removed]",
      "text/latex": [
       "$\\displaystyle s_{1} = A \\left(2 a + 2 + \\frac{\\left(3 - 4 \\alpha\\right) \\left(4 - b\\right)}{2 \\delta}\\right) + 1 + \\frac{4 - b}{2 \\delta}$"
      ],
      "text/plain": [
       "       ⎛          (3 - 4⋅α)⋅(4 - b)⎞       4 - b\n",
       "s₁ = A⋅⎜2⋅a + 2 + ─────────────────⎟ + 1 + ─────\n",
       "       ⎝                 2⋅δ       ⎠        2⋅δ "
      ]
     },
     "metadata": {},
     "output_type": "display_data"
    },
    {
     "data": {
      "text/plain": [
       "True"
      ]
     },
     "metadata": {},
     "output_type": "display_data"
    }
   ],
   "source": [
    "A = (4*delta * (1+a+lambd*alpha) / (nu + b - 4 - lambd*delta) + 4*alpha - 3)**-1\n",
    "display(Eq(Symbol('A'), A))\n",
    "print(\"Check that solutions agree with Kippenhahn\")\n",
    "z1kip = Rational(1, 2) * (1+Symbol('A'))\n",
    "p1kip = -2 * Symbol('A')\n",
    "t1kip = 1/(2*delta) * (1 + (3-4*alpha) * Symbol('A'))\n",
    "s1kip = (1+(4-b)/(2*delta) + (2 + 2*a + (3-4*alpha)/(2*delta) * (4-b)) * Symbol('A'))\n",
    "display(Eq(z1, z1kip))\n",
    "display(simplify(sol1[z1] - z1kip.subs({Symbol('A'): A})) == 0)\n",
    "display(Eq(p1, p1kip))\n",
    "display(simplify(sol1[p1] - p1kip.subs({Symbol('A'): A})) == 0)\n",
    "display(Eq(t1, t1kip))\n",
    "display(simplify(sol1[t1] - t1kip.subs({Symbol('A'): A})) == 0)\n",
    "display(Eq(s1, s1kip))\n",
    "display(simplify(sol1[s1] - s1kip.subs({Symbol('A'): A})) == 0)"
   ]
  },
  {
   "cell_type": "code",
   "execution_count": 10,
   "metadata": {},
   "outputs": [
    {
     "name": "stdout",
     "output_type": "stream",
     "text": [
      "System 2\n"
     ]
    },
    {
     "data": {
      "text/latex": [
       "$\\displaystyle \\left[\\begin{matrix}- \\alpha p_{2} + \\delta t_{2} - 3 z_{2}\\\\- p_{2} - 4 z_{2}\\\\\\alpha \\lambda p_{2} - s_{2} + t_{2} \\left(- \\delta \\lambda + \\nu\\right)\\\\a p_{2} + s_{2} + t_{2} \\left(b - 4\\right) - 4 z_{2}\\end{matrix}\\right] = \\left[\\begin{matrix}\\phi\\\\0\\\\- \\lambda \\phi\\\\0\\end{matrix}\\right]$"
      ],
      "text/plain": [
       "⎡     -α⋅p₂ + δ⋅t₂ - 3⋅z₂     ⎤   ⎡ φ  ⎤\n",
       "⎢                             ⎥   ⎢    ⎥\n",
       "⎢         -p₂ - 4⋅z₂          ⎥   ⎢ 0  ⎥\n",
       "⎢                             ⎥ = ⎢    ⎥\n",
       "⎢ α⋅λ⋅p₂ - s₂ + t₂⋅(-δ⋅λ + ν) ⎥   ⎢-λ⋅φ⎥\n",
       "⎢                             ⎥   ⎢    ⎥\n",
       "⎣a⋅p₂ + s₂ + t₂⋅(b - 4) - 4⋅z₂⎦   ⎣ 0  ⎦"
      ]
     },
     "metadata": {},
     "output_type": "display_data"
    }
   ],
   "source": [
    "print('System 2')\n",
    "display(Eq(LHS * LHS2, RHS2))"
   ]
  },
  {
   "cell_type": "code",
   "execution_count": 11,
   "metadata": {},
   "outputs": [
    {
     "data": {
      "image/png": "[encoded data removed]",
      "text/latex": [
       "$\\displaystyle z_{2} = \\frac{\\phi \\left(b + \\nu - 4\\right)}{4 a \\delta + 4 \\alpha b + 4 \\alpha \\nu - 16 \\alpha - 3 b + 3 \\delta \\lambda + 4 \\delta - 3 \\nu + 12}$"
      ],
      "text/plain": [
       "                            φ⋅(b + ν - 4)                       \n",
       "z₂ = ───────────────────────────────────────────────────────────\n",
       "     4⋅a⋅δ + 4⋅α⋅b + 4⋅α⋅ν - 16⋅α - 3⋅b + 3⋅δ⋅λ + 4⋅δ - 3⋅ν + 12"
      ]
     },
     "metadata": {},
     "output_type": "display_data"
    },
    {
     "data": {
      "image/png": "[encoded data removed]",
      "text/latex": [
       "$\\displaystyle p_{2} = - \\frac{4 \\phi \\left(b + \\nu - 4\\right)}{4 a \\delta + 4 \\alpha b + 4 \\alpha \\nu - 16 \\alpha - 3 b + 3 \\delta \\lambda + 4 \\delta - 3 \\nu + 12}$"
      ],
      "text/plain": [
       "                          -4⋅φ⋅(b + ν - 4)                      \n",
       "p₂ = ───────────────────────────────────────────────────────────\n",
       "     4⋅a⋅δ + 4⋅α⋅b + 4⋅α⋅ν - 16⋅α - 3⋅b + 3⋅δ⋅λ + 4⋅δ - 3⋅ν + 12"
      ]
     },
     "metadata": {},
     "output_type": "display_data"
    },
    {
     "data": {
      "image/png": "[encoded data removed]",
      "text/latex": [
       "$\\displaystyle t_{2} = \\frac{\\phi \\left(4 a + 3 \\lambda + 4\\right)}{4 a \\delta + 4 \\alpha b + 4 \\alpha \\nu - 16 \\alpha - 3 b + 3 \\delta \\lambda + 4 \\delta - 3 \\nu + 12}$"
      ],
      "text/plain": [
       "                          φ⋅(4⋅a + 3⋅λ + 4)                     \n",
       "t₂ = ───────────────────────────────────────────────────────────\n",
       "     4⋅a⋅δ + 4⋅α⋅b + 4⋅α⋅ν - 16⋅α - 3⋅b + 3⋅δ⋅λ + 4⋅δ - 3⋅ν + 12"
      ]
     },
     "metadata": {},
     "output_type": "display_data"
    },
    {
     "data": {
      "image/png": "[encoded data removed]",
      "text/latex": [
       "$\\displaystyle s_{2} = \\frac{\\phi \\left(4 a \\nu - 3 b \\lambda + 12 \\lambda + 4 \\nu\\right)}{4 a \\delta + 4 \\alpha b + 4 \\alpha \\nu - 16 \\alpha - 3 b + 3 \\delta \\lambda + 4 \\delta - 3 \\nu + 12}$"
      ],
      "text/plain": [
       "                    φ⋅(4⋅a⋅ν - 3⋅b⋅λ + 12⋅λ + 4⋅ν)              \n",
       "s₂ = ───────────────────────────────────────────────────────────\n",
       "     4⋅a⋅δ + 4⋅α⋅b + 4⋅α⋅ν - 16⋅α - 3⋅b + 3⋅δ⋅λ + 4⋅δ - 3⋅ν + 12"
      ]
     },
     "metadata": {},
     "output_type": "display_data"
    }
   ],
   "source": [
    "sol2 = solve(LHS * LHS2 - RHS2, LHS2)\n",
    "\n",
    "for key in sol2:\n",
    "    display(Eq(key, simplify(sol2[key])))"
   ]
  },
  {
   "cell_type": "code",
   "execution_count": 12,
   "metadata": {},
   "outputs": [
    {
     "data": {
      "image/png": "[encoded data removed]",
      "text/latex": [
       "$\\displaystyle B = \\frac{1}{\\left(- \\frac{\\delta \\lambda}{b + \\nu - 4} + 1\\right) \\left(4 \\alpha + \\frac{4 \\delta \\left(a + \\alpha \\lambda + 1\\right)}{b - \\delta \\lambda + \\nu - 4} - 3\\right)}$"
      ],
      "text/plain": [
       "                           1                       \n",
       "B = ───────────────────────────────────────────────\n",
       "    ⎛     δ⋅λ       ⎞ ⎛      4⋅δ⋅(a + α⋅λ + 1)    ⎞\n",
       "    ⎜- ───────── + 1⎟⋅⎜4⋅α + ───────────────── - 3⎟\n",
       "    ⎝  b + ν - 4    ⎠ ⎝       b - δ⋅λ + ν - 4     ⎠"
      ]
     },
     "metadata": {},
     "output_type": "display_data"
    },
    {
     "name": "stdout",
     "output_type": "stream",
     "text": [
      "Check that solutions agree with Kippenhahn\n"
     ]
    },
    {
     "data": {
      "image/png": "[encoded data removed]",
      "text/latex": [
       "$\\displaystyle z_{2} = B \\phi$"
      ],
      "text/plain": [
       "z₂ = B⋅φ"
      ]
     },
     "metadata": {},
     "output_type": "display_data"
    },
    {
     "data": {
      "text/plain": [
       "True"
      ]
     },
     "metadata": {},
     "output_type": "display_data"
    },
    {
     "data": {
      "image/png": "[encoded data removed]",
      "text/latex": [
       "$\\displaystyle p_{2} = - 4 B \\phi$"
      ],
      "text/plain": [
       "p₂ = -4⋅B⋅φ"
      ]
     },
     "metadata": {},
     "output_type": "display_data"
    },
    {
     "data": {
      "text/plain": [
       "True"
      ]
     },
     "metadata": {},
     "output_type": "display_data"
    },
    {
     "data": {
      "image/png": "[encoded data removed]",
      "text/latex": [
       "$\\displaystyle t_{2} = \\frac{\\phi \\left(B \\left(3 - 4 \\alpha\\right) + 1\\right)}{\\delta}$"
      ],
      "text/plain": [
       "     φ⋅(B⋅(3 - 4⋅α) + 1)\n",
       "t₂ = ───────────────────\n",
       "              δ         "
      ]
     },
     "metadata": {},
     "output_type": "display_data"
    },
    {
     "data": {
      "text/plain": [
       "True"
      ]
     },
     "metadata": {},
     "output_type": "display_data"
    },
    {
     "data": {
      "image/png": "[encoded data removed]",
      "text/latex": [
       "$\\displaystyle s_{2} = B \\phi \\left(4 a + 4 + \\frac{\\left(3 - 4 \\alpha\\right) \\left(4 - b\\right)}{\\delta}\\right) + \\frac{\\phi \\left(4 - b\\right)}{\\delta}$"
      ],
      "text/plain": [
       "         ⎛          (3 - 4⋅α)⋅(4 - b)⎞   φ⋅(4 - b)\n",
       "s₂ = B⋅φ⋅⎜4⋅a + 4 + ─────────────────⎟ + ─────────\n",
       "         ⎝                  δ        ⎠       δ    "
      ]
     },
     "metadata": {},
     "output_type": "display_data"
    },
    {
     "data": {
      "text/plain": [
       "True"
      ]
     },
     "metadata": {},
     "output_type": "display_data"
    }
   ],
   "source": [
    "B = A * (1 - lambd*delta / (nu+b-4))**-1\n",
    "display(Eq(Symbol('B'), B))\n",
    "print(\"Check that solutions agree with Kippenhahn\")\n",
    "z2kip = phi*Symbol('B')\n",
    "p2kip = -4*phi*Symbol('B')\n",
    "t2kip = (phi/delta * (1+(3-4*alpha)*Symbol('B')))\n",
    "s2kip = (phi/delta * (4-b) + phi*(4+4*a + (3-4*alpha)/delta * (4-b))*Symbol('B'))\n",
    "display(Eq(z2, z2kip))\n",
    "display(simplify(sol2[z2] - z2kip.subs({Symbol('B'): B})) == 0)\n",
    "display(Eq(p2, p2kip))\n",
    "display(simplify(sol2[p2] - p2kip.subs({Symbol('B'): B})) == 0)\n",
    "display(Eq(t2, t2kip))\n",
    "display(simplify(sol2[t2] - t2kip.subs({Symbol('B'): B})) == 0)\n",
    "display(Eq(s2, s2kip))\n",
    "display(simplify(sol2[s2] - s2kip.subs({Symbol('B'): B})) == 0)"
   ]
  },
  {
   "cell_type": "code",
   "execution_count": null,
   "metadata": {},
   "outputs": [],
   "source": []
  },
  {
   "cell_type": "code",
   "execution_count": 13,
   "metadata": {},
   "outputs": [
    {
     "name": "stdout",
     "output_type": "stream",
     "text": [
      "System 3\n"
     ]
    },
    {
     "data": {
      "text/latex": [
       "$\\displaystyle \\left[\\begin{matrix}- \\alpha p_{3} + \\delta t_{3} - 3 z_{3}\\\\- p_{3} - 4 z_{3}\\\\\\alpha \\lambda p_{3} - s_{3} + t_{3} \\left(- \\delta \\lambda + \\nu\\right) + 1\\\\a p_{3} + s_{3} + t_{3} \\left(b - 4\\right) - 4 z_{3}\\end{matrix}\\right] = \\left[\\begin{matrix}z_{3}\\\\p_{3}\\\\t_{3}\\\\s_{3}\\end{matrix}\\right]$"
      ],
      "text/plain": [
       "⎡      -α⋅p₃ + δ⋅t₃ - 3⋅z₃      ⎤   ⎡z₃⎤\n",
       "⎢                               ⎥   ⎢  ⎥\n",
       "⎢          -p₃ - 4⋅z₃           ⎥   ⎢p₃⎥\n",
       "⎢                               ⎥ = ⎢  ⎥\n",
       "⎢α⋅λ⋅p₃ - s₃ + t₃⋅(-δ⋅λ + ν) + 1⎥   ⎢t₃⎥\n",
       "⎢                               ⎥   ⎢  ⎥\n",
       "⎣ a⋅p₃ + s₃ + t₃⋅(b - 4) - 4⋅z₃ ⎦   ⎣s₃⎦"
      ]
     },
     "metadata": {},
     "output_type": "display_data"
    },
    {
     "data": {
      "image/png": "[encoded data removed]",
      "text/latex": [
       "$\\displaystyle z_{3} = \\frac{\\delta}{4 a \\delta + 4 \\alpha b + 4 \\alpha \\nu - 16 \\alpha - 3 b + 3 \\delta \\lambda + 4 \\delta - 3 \\nu + 12}$"
      ],
      "text/plain": [
       "                                  δ                             \n",
       "z₃ = ───────────────────────────────────────────────────────────\n",
       "     4⋅a⋅δ + 4⋅α⋅b + 4⋅α⋅ν - 16⋅α - 3⋅b + 3⋅δ⋅λ + 4⋅δ - 3⋅ν + 12"
      ]
     },
     "metadata": {},
     "output_type": "display_data"
    },
    {
     "data": {
      "image/png": "[encoded data removed]",
      "text/latex": [
       "$\\displaystyle p_{3} = - \\frac{4 \\delta}{4 a \\delta + 4 \\alpha b + 4 \\alpha \\nu - 16 \\alpha - 3 b + 3 \\delta \\lambda + 4 \\delta - 3 \\nu + 12}$"
      ],
      "text/plain": [
       "                                -4⋅δ                            \n",
       "p₃ = ───────────────────────────────────────────────────────────\n",
       "     4⋅a⋅δ + 4⋅α⋅b + 4⋅α⋅ν - 16⋅α - 3⋅b + 3⋅δ⋅λ + 4⋅δ - 3⋅ν + 12"
      ]
     },
     "metadata": {},
     "output_type": "display_data"
    },
    {
     "data": {
      "image/png": "[encoded data removed]",
      "text/latex": [
       "$\\displaystyle t_{3} = \\frac{3 - 4 \\alpha}{4 a \\delta + 4 \\alpha b + 4 \\alpha \\nu - 16 \\alpha - 3 b + 3 \\delta \\lambda + 4 \\delta - 3 \\nu + 12}$"
      ],
      "text/plain": [
       "                               3 - 4⋅α                          \n",
       "t₃ = ───────────────────────────────────────────────────────────\n",
       "     4⋅a⋅δ + 4⋅α⋅b + 4⋅α⋅ν - 16⋅α - 3⋅b + 3⋅δ⋅λ + 4⋅δ - 3⋅ν + 12"
      ]
     },
     "metadata": {},
     "output_type": "display_data"
    },
    {
     "data": {
      "image/png": "[encoded data removed]",
      "text/latex": [
       "$\\displaystyle s_{3} = \\frac{4 a \\delta + 4 \\alpha b - 16 \\alpha - 3 b + 4 \\delta + 12}{4 a \\delta + 4 \\alpha b + 4 \\alpha \\nu - 16 \\alpha - 3 b + 3 \\delta \\lambda + 4 \\delta - 3 \\nu + 12}$"
      ],
      "text/plain": [
       "                4⋅a⋅δ + 4⋅α⋅b - 16⋅α - 3⋅b + 4⋅δ + 12           \n",
       "s₃ = ───────────────────────────────────────────────────────────\n",
       "     4⋅a⋅δ + 4⋅α⋅b + 4⋅α⋅ν - 16⋅α - 3⋅b + 3⋅δ⋅λ + 4⋅δ - 3⋅ν + 12"
      ]
     },
     "metadata": {},
     "output_type": "display_data"
    }
   ],
   "source": [
    "print('System 3')\n",
    "display(Eq(LHS * LHS3 - RHS3, LHS3))\n",
    "sol3 = solve(LHS * LHS3 - RHS3, LHS3)\n",
    "\n",
    "for key in sol3:\n",
    "    display(Eq(key, simplify(sol3[key])))"
   ]
  },
  {
   "cell_type": "code",
   "execution_count": 14,
   "metadata": {},
   "outputs": [
    {
     "name": "stdout",
     "output_type": "stream",
     "text": [
      "System 4\n"
     ]
    },
    {
     "data": {
      "text/latex": [
       "$\\displaystyle \\left[\\begin{matrix}- \\alpha p_{4} + \\delta t_{4} - 3 z_{4}\\\\- p_{4} - 4 z_{4}\\\\\\alpha \\lambda p_{4} - s_{4} + t_{4} \\left(- \\delta \\lambda + \\nu\\right)\\\\a p_{4} + s_{4} + t_{4} \\left(b - 4\\right) - 4 z_{4} + 1\\end{matrix}\\right] = \\left[\\begin{matrix}z_{4}\\\\p_{4}\\\\t_{4}\\\\s_{4}\\end{matrix}\\right]$"
      ],
      "text/plain": [
       "⎡       -α⋅p₄ + δ⋅t₄ - 3⋅z₄       ⎤   ⎡z₄⎤\n",
       "⎢                                 ⎥   ⎢  ⎥\n",
       "⎢           -p₄ - 4⋅z₄            ⎥   ⎢p₄⎥\n",
       "⎢                                 ⎥ = ⎢  ⎥\n",
       "⎢   α⋅λ⋅p₄ - s₄ + t₄⋅(-δ⋅λ + ν)   ⎥   ⎢t₄⎥\n",
       "⎢                                 ⎥   ⎢  ⎥\n",
       "⎣a⋅p₄ + s₄ + t₄⋅(b - 4) - 4⋅z₄ + 1⎦   ⎣s₄⎦"
      ]
     },
     "metadata": {},
     "output_type": "display_data"
    },
    {
     "data": {
      "image/png": "[encoded data removed]",
      "text/latex": [
       "$\\displaystyle z_{4} = \\frac{\\delta}{4 a \\delta + 4 \\alpha b + 4 \\alpha \\nu - 16 \\alpha - 3 b + 3 \\delta \\lambda + 4 \\delta - 3 \\nu + 12}$"
      ],
      "text/plain": [
       "                                  δ                             \n",
       "z₄ = ───────────────────────────────────────────────────────────\n",
       "     4⋅a⋅δ + 4⋅α⋅b + 4⋅α⋅ν - 16⋅α - 3⋅b + 3⋅δ⋅λ + 4⋅δ - 3⋅ν + 12"
      ]
     },
     "metadata": {},
     "output_type": "display_data"
    },
    {
     "data": {
      "image/png": "[encoded data removed]",
      "text/latex": [
       "$\\displaystyle p_{4} = - \\frac{4 \\delta}{4 a \\delta + 4 \\alpha b + 4 \\alpha \\nu - 16 \\alpha - 3 b + 3 \\delta \\lambda + 4 \\delta - 3 \\nu + 12}$"
      ],
      "text/plain": [
       "                                -4⋅δ                            \n",
       "p₄ = ───────────────────────────────────────────────────────────\n",
       "     4⋅a⋅δ + 4⋅α⋅b + 4⋅α⋅ν - 16⋅α - 3⋅b + 3⋅δ⋅λ + 4⋅δ - 3⋅ν + 12"
      ]
     },
     "metadata": {},
     "output_type": "display_data"
    },
    {
     "data": {
      "image/png": "[encoded data removed]",
      "text/latex": [
       "$\\displaystyle t_{4} = \\frac{3 - 4 \\alpha}{4 a \\delta + 4 \\alpha b + 4 \\alpha \\nu - 16 \\alpha - 3 b + 3 \\delta \\lambda + 4 \\delta - 3 \\nu + 12}$"
      ],
      "text/plain": [
       "                               3 - 4⋅α                          \n",
       "t₄ = ───────────────────────────────────────────────────────────\n",
       "     4⋅a⋅δ + 4⋅α⋅b + 4⋅α⋅ν - 16⋅α - 3⋅b + 3⋅δ⋅λ + 4⋅δ - 3⋅ν + 12"
      ]
     },
     "metadata": {},
     "output_type": "display_data"
    },
    {
     "data": {
      "image/png": "[encoded data removed]",
      "text/latex": [
       "$\\displaystyle s_{4} = \\frac{- 4 \\alpha \\nu - 3 \\delta \\lambda + 3 \\nu}{4 a \\delta + 4 \\alpha b + 4 \\alpha \\nu - 16 \\alpha - 3 b + 3 \\delta \\lambda + 4 \\delta - 3 \\nu + 12}$"
      ],
      "text/plain": [
       "                         -4⋅α⋅ν - 3⋅δ⋅λ + 3⋅ν                   \n",
       "s₄ = ───────────────────────────────────────────────────────────\n",
       "     4⋅a⋅δ + 4⋅α⋅b + 4⋅α⋅ν - 16⋅α - 3⋅b + 3⋅δ⋅λ + 4⋅δ - 3⋅ν + 12"
      ]
     },
     "metadata": {},
     "output_type": "display_data"
    }
   ],
   "source": [
    "print('System 4')\n",
    "display(Eq(LHS * LHS4 - RHS4, LHS4))\n",
    "sol4 = solve(LHS * LHS4 - RHS4, LHS4)\n",
    "\n",
    "for key in sol4:\n",
    "    display(Eq(key, simplify(sol4[key])))"
   ]
  },
  {
   "cell_type": "code",
   "execution_count": 15,
   "metadata": {},
   "outputs": [
    {
     "data": {
      "image/png": "[encoded data removed]",
      "text/latex": [
       "$\\displaystyle \\left[ \\left( x_{0}, \\  4 \\delta\\right), \\  \\left( x_{1}, \\  4 \\alpha\\right), \\  \\left( x_{2}, \\  3 \\delta \\lambda + \\nu x_{1} - 3 \\nu\\right), \\  \\left( x_{3}, \\  \\frac{1}{a x_{0} - 16 \\alpha + b x_{1} - 3 b + x_{0} + x_{2} + 12}\\right)\\right]$"
      ],
      "text/plain": [
       "⎡                                                ⎛                       1    \n",
       "⎢(x₀, 4⋅δ), (x₁, 4⋅α), (x₂, 3⋅δ⋅λ + ν⋅x₁ - 3⋅ν), ⎜x₃, ────────────────────────\n",
       "⎣                                                ⎝    a⋅x₀ - 16⋅α + b⋅x₁ - 3⋅b\n",
       "\n",
       "               ⎞⎤\n",
       "───────────────⎟⎥\n",
       " + x₀ + x₂ + 12⎠⎦"
      ]
     },
     "metadata": {},
     "output_type": "display_data"
    },
    {
     "data": {
      "image/png": "[encoded data removed]",
      "text/latex": [
       "$\\displaystyle \\left[ \\delta x_{3}, \\  - x_{0} x_{3}, \\  - x_{3} \\left(x_{1} - 3\\right), \\  - x_{2} x_{3}\\right]$"
      ],
      "text/plain": [
       "[δ⋅x₃, -x₀⋅x₃, -x₃⋅(x₁ - 3), -x₂⋅x₃]"
      ]
     },
     "metadata": {},
     "output_type": "display_data"
    }
   ],
   "source": [
    "sol = cse([sol4[key] for key in sol4], optimizations='basic')\n",
    "display(sol[0])\n",
    "display(sol[1])"
   ]
  },
  {
   "cell_type": "code",
   "execution_count": null,
   "metadata": {},
   "outputs": [],
   "source": []
  },
  {
   "cell_type": "code",
   "execution_count": 16,
   "metadata": {},
   "outputs": [
    {
     "name": "stdout",
     "output_type": "stream",
     "text": [
      "Polytrope\n"
     ]
    },
    {
     "data": {
      "image/png": "[encoded data removed]",
      "text/latex": [
       "$\\displaystyle \\delta = 0$"
      ],
      "text/plain": [
       "δ = 0"
      ]
     },
     "metadata": {},
     "output_type": "display_data"
    },
    {
     "data": {
      "image/png": "[encoded data removed]",
      "text/latex": [
       "$\\displaystyle A = \\frac{1}{4 \\alpha - 3}$"
      ],
      "text/plain": [
       "       1   \n",
       "A = ───────\n",
       "    4⋅α - 3"
      ]
     },
     "metadata": {},
     "output_type": "display_data"
    },
    {
     "data": {
      "text/latex": [
       "$\\displaystyle \\left( \\left[\\begin{matrix}z_{1}\\\\p_{1}\\\\t_{1}\\\\s_{1}\\end{matrix}\\right] = \\left[\\begin{matrix}\\frac{2 \\alpha - 1}{4 \\alpha - 3}\\\\- \\frac{2}{4 \\alpha - 3}\\\\\\frac{2 \\left(a + \\alpha \\lambda + 1\\right)}{4 \\alpha b + 4 \\alpha \\nu - 16 \\alpha - 3 b - 3 \\nu + 12}\\\\\\frac{2 a \\nu + 4 \\alpha b - 2 \\alpha \\lambda \\left(b - 4\\right) + 4 \\alpha \\nu - 16 \\alpha - 3 b - \\nu + 12}{4 \\alpha b + 4 \\alpha \\nu - 16 \\alpha - 3 b - 3 \\nu + 12}\\end{matrix}\\right], \\  \\left[\\begin{matrix}z_{2}\\\\p_{2}\\\\t_{2}\\\\s_{2}\\end{matrix}\\right] = \\left[\\begin{matrix}\\frac{\\phi}{4 \\alpha - 3}\\\\- \\frac{4 \\phi}{4 \\alpha - 3}\\\\\\frac{\\phi \\left(4 a + 3 \\lambda + 4\\right)}{4 \\alpha b + 4 \\alpha \\nu - 16 \\alpha - 3 b - 3 \\nu + 12}\\\\\\frac{\\phi \\left(4 a \\nu - 3 b \\lambda + 12 \\lambda + 4 \\nu\\right)}{4 \\alpha b + 4 \\alpha \\nu - 16 \\alpha - 3 b - 3 \\nu + 12}\\end{matrix}\\right]\\right)$"
      ],
      "text/plain": [
       "⎛       ⎡                          2⋅α - 1                          ⎤         \n",
       "⎜       ⎢                          ───────                          ⎥         \n",
       "⎜       ⎢                          4⋅α - 3                          ⎥         \n",
       "⎜       ⎢                                                           ⎥         \n",
       "⎜⎡z₁⎤   ⎢                            -2                             ⎥  ⎡z₂⎤   \n",
       "⎜⎢  ⎥   ⎢                          ───────                          ⎥  ⎢  ⎥   \n",
       "⎜⎢p₁⎥   ⎢                          4⋅α - 3                          ⎥  ⎢p₂⎥   \n",
       "⎜⎢  ⎥ = ⎢                                                           ⎥, ⎢  ⎥ = \n",
       "⎜⎢t₁⎥   ⎢                      2⋅(a + α⋅λ + 1)                      ⎥  ⎢t₂⎥   \n",
       "⎜⎢  ⎥   ⎢           ─────────────────────────────────────           ⎥  ⎢  ⎥   \n",
       "⎜⎣s₁⎦   ⎢           4⋅α⋅b + 4⋅α⋅ν - 16⋅α - 3⋅b - 3⋅ν + 12           ⎥  ⎣s₂⎦   \n",
       "⎜       ⎢                                                           ⎥         \n",
       "⎜       ⎢2⋅a⋅ν + 4⋅α⋅b - 2⋅α⋅λ⋅(b - 4) + 4⋅α⋅ν - 16⋅α - 3⋅b - ν + 12⎥         \n",
       "⎜       ⎢───────────────────────────────────────────────────────────⎥         \n",
       "⎝       ⎣           4⋅α⋅b + 4⋅α⋅ν - 16⋅α - 3⋅b - 3⋅ν + 12           ⎦         \n",
       "\n",
       "⎡                  φ                  ⎤⎞\n",
       "⎢               ───────               ⎥⎟\n",
       "⎢               4⋅α - 3               ⎥⎟\n",
       "⎢                                     ⎥⎟\n",
       "⎢                -4⋅φ                 ⎥⎟\n",
       "⎢               ───────               ⎥⎟\n",
       "⎢               4⋅α - 3               ⎥⎟\n",
       "⎢                                     ⎥⎟\n",
       "⎢          φ⋅(4⋅a + 3⋅λ + 4)          ⎥⎟\n",
       "⎢─────────────────────────────────────⎥⎟\n",
       "⎢4⋅α⋅b + 4⋅α⋅ν - 16⋅α - 3⋅b - 3⋅ν + 12⎥⎟\n",
       "⎢                                     ⎥⎟\n",
       "⎢    φ⋅(4⋅a⋅ν - 3⋅b⋅λ + 12⋅λ + 4⋅ν)   ⎥⎟\n",
       "⎢─────────────────────────────────────⎥⎟\n",
       "⎣4⋅α⋅b + 4⋅α⋅ν - 16⋅α - 3⋅b - 3⋅ν + 12⎦⎠"
      ]
     },
     "metadata": {},
     "output_type": "display_data"
    },
    {
     "data": {
      "text/latex": [
       "$\\displaystyle \\left( \\left[\\begin{matrix}z_{3}\\\\p_{3}\\\\t_{3}\\\\s_{3}\\end{matrix}\\right] = \\left[\\begin{matrix}0\\\\0\\\\- \\frac{1}{b + \\nu - 4}\\\\\\frac{b - 4}{b + \\nu - 4}\\end{matrix}\\right], \\  \\left[\\begin{matrix}z_{4}\\\\p_{4}\\\\t_{4}\\\\s_{4}\\end{matrix}\\right] = \\left[\\begin{matrix}0\\\\0\\\\- \\frac{1}{b + \\nu - 4}\\\\- \\frac{\\nu}{b + \\nu - 4}\\end{matrix}\\right]\\right)$"
      ],
      "text/plain": [
       "⎛       ⎡    0    ⎤         ⎡    0    ⎤⎞\n",
       "⎜       ⎢         ⎥         ⎢         ⎥⎟\n",
       "⎜⎡z₃⎤   ⎢    0    ⎥  ⎡z₄⎤   ⎢    0    ⎥⎟\n",
       "⎜⎢  ⎥   ⎢         ⎥  ⎢  ⎥   ⎢         ⎥⎟\n",
       "⎜⎢p₃⎥   ⎢   -1    ⎥  ⎢p₄⎥   ⎢   -1    ⎥⎟\n",
       "⎜⎢  ⎥ = ⎢─────────⎥, ⎢  ⎥ = ⎢─────────⎥⎟\n",
       "⎜⎢t₃⎥   ⎢b + ν - 4⎥  ⎢t₄⎥   ⎢b + ν - 4⎥⎟\n",
       "⎜⎢  ⎥   ⎢         ⎥  ⎢  ⎥   ⎢         ⎥⎟\n",
       "⎜⎣s₃⎦   ⎢  b - 4  ⎥  ⎣s₄⎦   ⎢   -ν    ⎥⎟\n",
       "⎜       ⎢─────────⎥         ⎢─────────⎥⎟\n",
       "⎝       ⎣b + ν - 4⎦         ⎣b + ν - 4⎦⎠"
      ]
     },
     "metadata": {},
     "output_type": "display_data"
    },
    {
     "name": "stdout",
     "output_type": "stream",
     "text": [
      "...and assuming non-relativistic degenerate electron gas\n"
     ]
    },
    {
     "data": {
      "image/png": "[encoded data removed]",
      "text/latex": [
       "$\\displaystyle \\alpha = \\frac{3}{5}$"
      ],
      "text/plain": [
       "α = 3/5"
      ]
     },
     "metadata": {},
     "output_type": "display_data"
    },
    {
     "data": {
      "text/latex": [
       "$\\displaystyle \\left( \\left[\\begin{matrix}z_{1}\\\\p_{1}\\\\t_{1}\\\\s_{1}\\end{matrix}\\right] = \\left[\\begin{matrix}- \\frac{1}{3}\\\\\\frac{10}{3}\\\\- \\frac{10 a + 6 \\lambda + 10}{3 b + 3 \\nu - 12}\\\\\\frac{- \\frac{10 a \\nu}{3} + b + 2 \\lambda \\left(b - 4\\right) - \\frac{7 \\nu}{3} - 4}{b + \\nu - 4}\\end{matrix}\\right], \\  \\left[\\begin{matrix}z_{2}\\\\p_{2}\\\\t_{2}\\\\s_{2}\\end{matrix}\\right] = \\left[\\begin{matrix}- \\frac{5 \\phi}{3}\\\\\\frac{20 \\phi}{3}\\\\- \\frac{5 \\phi \\left(4 a + 3 \\lambda + 4\\right)}{3 b + 3 \\nu - 12}\\\\- \\frac{5 \\phi \\left(4 a \\nu - 3 b \\lambda + 12 \\lambda + 4 \\nu\\right)}{3 b + 3 \\nu - 12}\\end{matrix}\\right]\\right)$"
      ],
      "text/plain": [
       "⎛                                                      ⎡              -5⋅φ    \n",
       "⎜       ⎡                -1/3                ⎤         ⎢              ─────   \n",
       "⎜       ⎢                                    ⎥         ⎢                3     \n",
       "⎜       ⎢                10/3                ⎥         ⎢                      \n",
       "⎜⎡z₁⎤   ⎢                                    ⎥  ⎡z₂⎤   ⎢               20⋅φ   \n",
       "⎜⎢  ⎥   ⎢        -(10⋅a + 6⋅λ + 10)          ⎥  ⎢  ⎥   ⎢               ────   \n",
       "⎜⎢p₁⎥   ⎢        ───────────────────         ⎥  ⎢p₂⎥   ⎢                3     \n",
       "⎜⎢  ⎥ = ⎢           3⋅b + 3⋅ν - 12           ⎥, ⎢  ⎥ = ⎢                      \n",
       "⎜⎢t₁⎥   ⎢                                    ⎥  ⎢t₂⎥   ⎢      -5⋅φ⋅(4⋅a + 3⋅λ \n",
       "⎜⎢  ⎥   ⎢  10⋅a⋅ν                     7⋅ν    ⎥  ⎢  ⎥   ⎢      ────────────────\n",
       "⎜⎣s₁⎦   ⎢- ────── + b + 2⋅λ⋅(b - 4) - ─── - 4⎥  ⎣s₂⎦   ⎢          3⋅b + 3⋅ν - \n",
       "⎜       ⎢    3                         3     ⎥         ⎢                      \n",
       "⎜       ⎢────────────────────────────────────⎥         ⎢-5⋅φ⋅(4⋅a⋅ν - 3⋅b⋅λ + \n",
       "⎜       ⎣             b + ν - 4              ⎦         ⎢──────────────────────\n",
       "⎝                                                      ⎣          3⋅b + 3⋅ν - \n",
       "\n",
       "            ⎤⎞\n",
       "            ⎥⎟\n",
       "            ⎥⎟\n",
       "            ⎥⎟\n",
       "            ⎥⎟\n",
       "            ⎥⎟\n",
       "            ⎥⎟\n",
       "            ⎥⎟\n",
       "+ 4)        ⎥⎟\n",
       "─────       ⎥⎟\n",
       "12          ⎥⎟\n",
       "            ⎥⎟\n",
       "12⋅λ + 4⋅ν) ⎥⎟\n",
       "────────────⎥⎟\n",
       "12          ⎦⎠"
      ]
     },
     "metadata": {},
     "output_type": "display_data"
    },
    {
     "data": {
      "text/latex": [
       "$\\displaystyle \\left( \\left[\\begin{matrix}z_{3}\\\\p_{3}\\\\t_{3}\\\\s_{3}\\end{matrix}\\right] = \\left[\\begin{matrix}0\\\\0\\\\- \\frac{1}{b + \\nu - 4}\\\\\\frac{b - 4}{b + \\nu - 4}\\end{matrix}\\right], \\  \\left[\\begin{matrix}z_{4}\\\\p_{4}\\\\t_{4}\\\\s_{4}\\end{matrix}\\right] = \\left[\\begin{matrix}0\\\\0\\\\- \\frac{1}{b + \\nu - 4}\\\\- \\frac{\\nu}{b + \\nu - 4}\\end{matrix}\\right]\\right)$"
      ],
      "text/plain": [
       "⎛       ⎡    0    ⎤         ⎡    0    ⎤⎞\n",
       "⎜       ⎢         ⎥         ⎢         ⎥⎟\n",
       "⎜⎡z₃⎤   ⎢    0    ⎥  ⎡z₄⎤   ⎢    0    ⎥⎟\n",
       "⎜⎢  ⎥   ⎢         ⎥  ⎢  ⎥   ⎢         ⎥⎟\n",
       "⎜⎢p₃⎥   ⎢   -1    ⎥  ⎢p₄⎥   ⎢   -1    ⎥⎟\n",
       "⎜⎢  ⎥ = ⎢─────────⎥, ⎢  ⎥ = ⎢─────────⎥⎟\n",
       "⎜⎢t₃⎥   ⎢b + ν - 4⎥  ⎢t₄⎥   ⎢b + ν - 4⎥⎟\n",
       "⎜⎢  ⎥   ⎢         ⎥  ⎢  ⎥   ⎢         ⎥⎟\n",
       "⎜⎣s₃⎦   ⎢  b - 4  ⎥  ⎣s₄⎦   ⎢   -ν    ⎥⎟\n",
       "⎜       ⎢─────────⎥         ⎢─────────⎥⎟\n",
       "⎝       ⎣b + ν - 4⎦         ⎣b + ν - 4⎦⎠"
      ]
     },
     "metadata": {},
     "output_type": "display_data"
    }
   ],
   "source": [
    "print(\"Polytrope\")\n",
    "\n",
    "_delta = 0\n",
    "display(Eq(Symbol('delta'), _delta))\n",
    "subs_dict = {delta:_delta}\n",
    "\n",
    "display(Eq(Symbol('A'), A.subs(subs_dict)))\n",
    "\n",
    "def display_system(subs_dict):\n",
    "    display((Eq(LHS1, Matrix([simplify(sol1[key].subs(subs_dict)) for key in sol1])),\n",
    "             Eq(LHS2, Matrix([simplify(sol2[key].subs(subs_dict)) for key in sol2]))))\n",
    "    display((Eq(LHS3, Matrix([simplify(sol3[key].subs(subs_dict)) for key in sol3])),\n",
    "             Eq(LHS4, Matrix([simplify(sol4[key].subs(subs_dict)) for key in sol4]))))\n",
    "\n",
    "display_system(subs_dict)\n",
    "\n",
    "print(\"...and assuming non-relativistic degenerate electron gas\")\n",
    "_alpha = Rational(3, 5)\n",
    "display(Eq(Symbol('alpha'), _alpha))\n",
    "subs_dict = {delta:_delta, alpha:_alpha}\n",
    "\n",
    "display_system(subs_dict)"
   ]
  },
  {
   "cell_type": "code",
   "execution_count": 17,
   "metadata": {},
   "outputs": [
    {
     "name": "stdout",
     "output_type": "stream",
     "text": [
      "Now assuming ideal gas...\n"
     ]
    },
    {
     "data": {
      "text/latex": [
       "$\\displaystyle \\alpha = \\delta = \\phi = 1$"
      ],
      "text/plain": [
       "<IPython.core.display.Math object>"
      ]
     },
     "metadata": {},
     "output_type": "display_data"
    }
   ],
   "source": [
    "print(\"Now assuming ideal gas...\")\n",
    "display(Math(latex(r\"$\\alpha = \\delta = \\phi = 1$\")))\n",
    "_alpha, _delta, _phi = 1, 1, 1"
   ]
  },
  {
   "cell_type": "code",
   "execution_count": 18,
   "metadata": {},
   "outputs": [
    {
     "name": "stdout",
     "output_type": "stream",
     "text": [
      "...and constant opacity\n"
     ]
    },
    {
     "data": {
      "text/latex": [
       "$\\displaystyle a = b = 0$"
      ],
      "text/plain": [
       "<IPython.core.display.Math object>"
      ]
     },
     "metadata": {},
     "output_type": "display_data"
    }
   ],
   "source": [
    "print(\"...and constant opacity\")\n",
    "_a, _b = 0, 0\n",
    "display(Math(latex(r\"$a = b = 0$\")))"
   ]
  },
  {
   "cell_type": "code",
   "execution_count": 19,
   "metadata": {},
   "outputs": [
    {
     "data": {
      "text/latex": [
       "$\\displaystyle \\left( \\left[\\begin{matrix}z_{1}\\\\p_{1}\\\\t_{1}\\\\s_{1}\\end{matrix}\\right] = \\left[\\begin{matrix}\\frac{\\lambda + \\nu - 2}{3 \\lambda + \\nu}\\\\\\frac{2 \\left(\\lambda - \\nu + 4\\right)}{3 \\lambda + \\nu}\\\\\\frac{2 \\left(\\lambda + 1\\right)}{3 \\lambda + \\nu}\\\\3\\end{matrix}\\right], \\  \\left[\\begin{matrix}z_{2}\\\\p_{2}\\\\t_{2}\\\\s_{2}\\end{matrix}\\right] = \\left[\\begin{matrix}\\frac{\\nu - 4}{3 \\lambda + \\nu}\\\\\\frac{4 \\left(4 - \\nu\\right)}{3 \\lambda + \\nu}\\\\\\frac{3 \\lambda + 4}{3 \\lambda + \\nu}\\\\4\\end{matrix}\\right]\\right)$"
      ],
      "text/plain": [
       "⎛       ⎡  λ + ν - 2  ⎤         ⎡  ν - 4  ⎤⎞\n",
       "⎜       ⎢  ─────────  ⎥         ⎢ ─────── ⎥⎟\n",
       "⎜       ⎢   3⋅λ + ν   ⎥         ⎢ 3⋅λ + ν ⎥⎟\n",
       "⎜⎡z₁⎤   ⎢             ⎥  ⎡z₂⎤   ⎢         ⎥⎟\n",
       "⎜⎢  ⎥   ⎢2⋅(λ - ν + 4)⎥  ⎢  ⎥   ⎢4⋅(4 - ν)⎥⎟\n",
       "⎜⎢p₁⎥   ⎢─────────────⎥  ⎢p₂⎥   ⎢─────────⎥⎟\n",
       "⎜⎢  ⎥ = ⎢   3⋅λ + ν   ⎥, ⎢  ⎥ = ⎢ 3⋅λ + ν ⎥⎟\n",
       "⎜⎢t₁⎥   ⎢             ⎥  ⎢t₂⎥   ⎢         ⎥⎟\n",
       "⎜⎢  ⎥   ⎢  2⋅(λ + 1)  ⎥  ⎢  ⎥   ⎢ 3⋅λ + 4 ⎥⎟\n",
       "⎜⎣s₁⎦   ⎢  ─────────  ⎥  ⎣s₂⎦   ⎢ ─────── ⎥⎟\n",
       "⎜       ⎢   3⋅λ + ν   ⎥         ⎢ 3⋅λ + ν ⎥⎟\n",
       "⎜       ⎢             ⎥         ⎢         ⎥⎟\n",
       "⎝       ⎣      3      ⎦         ⎣    4    ⎦⎠"
      ]
     },
     "metadata": {},
     "output_type": "display_data"
    },
    {
     "data": {
      "text/latex": [
       "$\\displaystyle \\left( \\left[\\begin{matrix}z_{3}\\\\p_{3}\\\\t_{3}\\\\s_{3}\\end{matrix}\\right] = \\left[\\begin{matrix}\\frac{1}{3 \\lambda + \\nu}\\\\- \\frac{4}{3 \\lambda + \\nu}\\\\- \\frac{1}{3 \\lambda + \\nu}\\\\0\\end{matrix}\\right], \\  \\left[\\begin{matrix}z_{4}\\\\p_{4}\\\\t_{4}\\\\s_{4}\\end{matrix}\\right] = \\left[\\begin{matrix}\\frac{1}{3 \\lambda + \\nu}\\\\- \\frac{4}{3 \\lambda + \\nu}\\\\- \\frac{1}{3 \\lambda + \\nu}\\\\-1\\end{matrix}\\right]\\right)$"
      ],
      "text/plain": [
       "⎛       ⎡   1   ⎤         ⎡   1   ⎤⎞\n",
       "⎜       ⎢───────⎥         ⎢───────⎥⎟\n",
       "⎜       ⎢3⋅λ + ν⎥         ⎢3⋅λ + ν⎥⎟\n",
       "⎜⎡z₃⎤   ⎢       ⎥  ⎡z₄⎤   ⎢       ⎥⎟\n",
       "⎜⎢  ⎥   ⎢  -4   ⎥  ⎢  ⎥   ⎢  -4   ⎥⎟\n",
       "⎜⎢p₃⎥   ⎢───────⎥  ⎢p₄⎥   ⎢───────⎥⎟\n",
       "⎜⎢  ⎥ = ⎢3⋅λ + ν⎥, ⎢  ⎥ = ⎢3⋅λ + ν⎥⎟\n",
       "⎜⎢t₃⎥   ⎢       ⎥  ⎢t₄⎥   ⎢       ⎥⎟\n",
       "⎜⎢  ⎥   ⎢  -1   ⎥  ⎢  ⎥   ⎢  -1   ⎥⎟\n",
       "⎜⎣s₃⎦   ⎢───────⎥  ⎣s₄⎦   ⎢───────⎥⎟\n",
       "⎜       ⎢3⋅λ + ν⎥         ⎢3⋅λ + ν⎥⎟\n",
       "⎜       ⎢       ⎥         ⎢       ⎥⎟\n",
       "⎝       ⎣   0   ⎦         ⎣  -1   ⎦⎠"
      ]
     },
     "metadata": {},
     "output_type": "display_data"
    }
   ],
   "source": [
    "subs_dict = {alpha:_alpha, delta:_delta, phi:_phi, a:_a, b:_b}\n",
    "display_system(subs_dict)"
   ]
  },
  {
   "cell_type": "code",
   "execution_count": 20,
   "metadata": {},
   "outputs": [],
   "source": [
    "def display_eqns(subs_dict):\n",
    "    sols = [[simplify(sol[key].subs(subs_dict)) for key in sol] \n",
    "            for sol in [sol1, sol2, sol3, sol4]]\n",
    "    sols = list(map(list, zip(*sols))) # matrix transpose \n",
    "    \n",
    "    for ii in range(4):\n",
    "        if ii == 0: var_str = r\"$\\frac{R}{R'} = \"\n",
    "        if ii == 1: var_str = r\"$\\frac{P}{P'} = \"\n",
    "        if ii == 2: var_str = r\"$\\frac{T}{T'} = \"\n",
    "        if ii == 3: var_str = r\"$\\frac{L}{L'} = \"\n",
    "        for jj, z_ in enumerate(sols[ii]):\n",
    "            if z_ == 0: continue \n",
    "            if jj == 0: var_str += r\"\\left(\\frac{M}       {M'}       \\right)^{\" + str(z_) + \"}\"\n",
    "            if jj == 1: var_str += r\"\\left(\\frac{\\mu}     {\\mu'}     \\right)^{\" + str(z_) + \"}\"\n",
    "            if jj == 2: var_str += r\"\\left(\\frac{\\epsilon}{\\epsilon'}\\right)^{\" + str(z_) + \"}\"\n",
    "            if jj == 3: var_str += r\"\\left(\\frac{\\kappa}  {\\kappa'}  \\right)^{\" + str(z_) + \"}\"\n",
    "        display(Math(latex(var_str)))"
   ]
  },
  {
   "cell_type": "code",
   "execution_count": 21,
   "metadata": {},
   "outputs": [
    {
     "name": "stdout",
     "output_type": "stream",
     "text": [
      "with an energy generation rate that scales linearly with density\n"
     ]
    },
    {
     "data": {
      "image/png": "[encoded data removed]",
      "text/latex": [
       "$\\displaystyle \\left( \\lambda = 1, \\  \\nu = 4\\right)$"
      ],
      "text/plain": [
       "(λ = 1, ν = 4)"
      ]
     },
     "metadata": {},
     "output_type": "display_data"
    },
    {
     "data": {
      "text/latex": [
       "$\\displaystyle \\left( \\left[\\begin{matrix}z_{1}\\\\p_{1}\\\\t_{1}\\\\s_{1}\\end{matrix}\\right] = \\left[\\begin{matrix}\\frac{3}{7}\\\\\\frac{2}{7}\\\\\\frac{4}{7}\\\\3\\end{matrix}\\right], \\  \\left[\\begin{matrix}z_{2}\\\\p_{2}\\\\t_{2}\\\\s_{2}\\end{matrix}\\right] = \\left[\\begin{matrix}0\\\\0\\\\1\\\\4\\end{matrix}\\right]\\right)$"
      ],
      "text/plain": [
       "⎛⎡z₁⎤   ⎡3/7⎤  ⎡z₂⎤   ⎡0⎤⎞\n",
       "⎜⎢  ⎥   ⎢   ⎥  ⎢  ⎥   ⎢ ⎥⎟\n",
       "⎜⎢p₁⎥   ⎢2/7⎥  ⎢p₂⎥   ⎢0⎥⎟\n",
       "⎜⎢  ⎥ = ⎢   ⎥, ⎢  ⎥ = ⎢ ⎥⎟\n",
       "⎜⎢t₁⎥   ⎢4/7⎥  ⎢t₂⎥   ⎢1⎥⎟\n",
       "⎜⎢  ⎥   ⎢   ⎥  ⎢  ⎥   ⎢ ⎥⎟\n",
       "⎝⎣s₁⎦   ⎣ 3 ⎦  ⎣s₂⎦   ⎣4⎦⎠"
      ]
     },
     "metadata": {},
     "output_type": "display_data"
    },
    {
     "data": {
      "text/latex": [
       "$\\displaystyle \\left( \\left[\\begin{matrix}z_{3}\\\\p_{3}\\\\t_{3}\\\\s_{3}\\end{matrix}\\right] = \\left[\\begin{matrix}\\frac{1}{7}\\\\- \\frac{4}{7}\\\\- \\frac{1}{7}\\\\0\\end{matrix}\\right], \\  \\left[\\begin{matrix}z_{4}\\\\p_{4}\\\\t_{4}\\\\s_{4}\\end{matrix}\\right] = \\left[\\begin{matrix}\\frac{1}{7}\\\\- \\frac{4}{7}\\\\- \\frac{1}{7}\\\\-1\\end{matrix}\\right]\\right)$"
      ],
      "text/plain": [
       "⎛⎡z₃⎤   ⎡1/7 ⎤  ⎡z₄⎤   ⎡1/7 ⎤⎞\n",
       "⎜⎢  ⎥   ⎢    ⎥  ⎢  ⎥   ⎢    ⎥⎟\n",
       "⎜⎢p₃⎥   ⎢-4/7⎥  ⎢p₄⎥   ⎢-4/7⎥⎟\n",
       "⎜⎢  ⎥ = ⎢    ⎥, ⎢  ⎥ = ⎢    ⎥⎟\n",
       "⎜⎢t₃⎥   ⎢-1/7⎥  ⎢t₄⎥   ⎢-1/7⎥⎟\n",
       "⎜⎢  ⎥   ⎢    ⎥  ⎢  ⎥   ⎢    ⎥⎟\n",
       "⎝⎣s₃⎦   ⎣ 0  ⎦  ⎣s₄⎦   ⎣ -1 ⎦⎠"
      ]
     },
     "metadata": {},
     "output_type": "display_data"
    },
    {
     "data": {
      "text/latex": [
       "$\\displaystyle \\frac{R}{R'} = \\left(\\frac{M}       {M'}       \\right)^{3/7}\\left(\\frac{\\epsilon}{\\epsilon'}\\right)^{1/7}\\left(\\frac{\\kappa}  {\\kappa'}  \\right)^{1/7}$"
      ],
      "text/plain": [
       "<IPython.core.display.Math object>"
      ]
     },
     "metadata": {},
     "output_type": "display_data"
    },
    {
     "data": {
      "text/latex": [
       "$\\displaystyle \\frac{P}{P'} = \\left(\\frac{M}       {M'}       \\right)^{2/7}\\left(\\frac{\\epsilon}{\\epsilon'}\\right)^{-4/7}\\left(\\frac{\\kappa}  {\\kappa'}  \\right)^{-4/7}$"
      ],
      "text/plain": [
       "<IPython.core.display.Math object>"
      ]
     },
     "metadata": {},
     "output_type": "display_data"
    },
    {
     "data": {
      "text/latex": [
       "$\\displaystyle \\frac{T}{T'} = \\left(\\frac{M}       {M'}       \\right)^{4/7}\\left(\\frac{\\mu}     {\\mu'}     \\right)^{1}\\left(\\frac{\\epsilon}{\\epsilon'}\\right)^{-1/7}\\left(\\frac{\\kappa}  {\\kappa'}  \\right)^{-1/7}$"
      ],
      "text/plain": [
       "<IPython.core.display.Math object>"
      ]
     },
     "metadata": {},
     "output_type": "display_data"
    },
    {
     "data": {
      "text/latex": [
       "$\\displaystyle \\frac{L}{L'} = \\left(\\frac{M}       {M'}       \\right)^{3}\\left(\\frac{\\mu}     {\\mu'}     \\right)^{4}\\left(\\frac{\\kappa}  {\\kappa'}  \\right)^{-1}$"
      ],
      "text/plain": [
       "<IPython.core.display.Math object>"
      ]
     },
     "metadata": {},
     "output_type": "display_data"
    },
    {
     "data": {
      "image/png": "[encoded data removed]",
      "text/latex": [
       "$\\displaystyle \\left( \\lambda = 1, \\  \\nu = 15\\right)$"
      ],
      "text/plain": [
       "(λ = 1, ν = 15)"
      ]
     },
     "metadata": {},
     "output_type": "display_data"
    },
    {
     "data": {
      "text/latex": [
       "$\\displaystyle \\left( \\left[\\begin{matrix}z_{1}\\\\p_{1}\\\\t_{1}\\\\s_{1}\\end{matrix}\\right] = \\left[\\begin{matrix}\\frac{7}{9}\\\\- \\frac{10}{9}\\\\\\frac{2}{9}\\\\3\\end{matrix}\\right], \\  \\left[\\begin{matrix}z_{2}\\\\p_{2}\\\\t_{2}\\\\s_{2}\\end{matrix}\\right] = \\left[\\begin{matrix}\\frac{11}{18}\\\\- \\frac{22}{9}\\\\\\frac{7}{18}\\\\4\\end{matrix}\\right]\\right)$"
      ],
      "text/plain": [
       "⎛                       ⎡ 11  ⎤⎞\n",
       "⎜⎡z₁⎤   ⎡ 7/9 ⎤  ⎡z₂⎤   ⎢ ──  ⎥⎟\n",
       "⎜⎢  ⎥   ⎢     ⎥  ⎢  ⎥   ⎢ 18  ⎥⎟\n",
       "⎜⎢p₁⎥   ⎢-10/9⎥  ⎢p₂⎥   ⎢     ⎥⎟\n",
       "⎜⎢  ⎥ = ⎢     ⎥, ⎢  ⎥ = ⎢-22/9⎥⎟\n",
       "⎜⎢t₁⎥   ⎢ 2/9 ⎥  ⎢t₂⎥   ⎢     ⎥⎟\n",
       "⎜⎢  ⎥   ⎢     ⎥  ⎢  ⎥   ⎢7/18 ⎥⎟\n",
       "⎜⎣s₁⎦   ⎣  3  ⎦  ⎣s₂⎦   ⎢     ⎥⎟\n",
       "⎝                       ⎣  4  ⎦⎠"
      ]
     },
     "metadata": {},
     "output_type": "display_data"
    },
    {
     "data": {
      "text/latex": [
       "$\\displaystyle \\left( \\left[\\begin{matrix}z_{3}\\\\p_{3}\\\\t_{3}\\\\s_{3}\\end{matrix}\\right] = \\left[\\begin{matrix}\\frac{1}{18}\\\\- \\frac{2}{9}\\\\- \\frac{1}{18}\\\\0\\end{matrix}\\right], \\  \\left[\\begin{matrix}z_{4}\\\\p_{4}\\\\t_{4}\\\\s_{4}\\end{matrix}\\right] = \\left[\\begin{matrix}\\frac{1}{18}\\\\- \\frac{2}{9}\\\\- \\frac{1}{18}\\\\-1\\end{matrix}\\right]\\right)$"
      ],
      "text/plain": [
       "⎛⎡z₃⎤   ⎡1/18 ⎤  ⎡z₄⎤   ⎡1/18 ⎤⎞\n",
       "⎜⎢  ⎥   ⎢     ⎥  ⎢  ⎥   ⎢     ⎥⎟\n",
       "⎜⎢p₃⎥   ⎢-2/9 ⎥  ⎢p₄⎥   ⎢-2/9 ⎥⎟\n",
       "⎜⎢  ⎥ = ⎢     ⎥, ⎢  ⎥ = ⎢     ⎥⎟\n",
       "⎜⎢t₃⎥   ⎢-1/18⎥  ⎢t₄⎥   ⎢-1/18⎥⎟\n",
       "⎜⎢  ⎥   ⎢     ⎥  ⎢  ⎥   ⎢     ⎥⎟\n",
       "⎝⎣s₃⎦   ⎣  0  ⎦  ⎣s₄⎦   ⎣ -1  ⎦⎠"
      ]
     },
     "metadata": {},
     "output_type": "display_data"
    },
    {
     "data": {
      "text/latex": [
       "$\\displaystyle \\frac{R}{R'} = \\left(\\frac{M}       {M'}       \\right)^{7/9}\\left(\\frac{\\mu}     {\\mu'}     \\right)^{11/18}\\left(\\frac{\\epsilon}{\\epsilon'}\\right)^{1/18}\\left(\\frac{\\kappa}  {\\kappa'}  \\right)^{1/18}$"
      ],
      "text/plain": [
       "<IPython.core.display.Math object>"
      ]
     },
     "metadata": {},
     "output_type": "display_data"
    },
    {
     "data": {
      "text/latex": [
       "$\\displaystyle \\frac{P}{P'} = \\left(\\frac{M}       {M'}       \\right)^{-10/9}\\left(\\frac{\\mu}     {\\mu'}     \\right)^{-22/9}\\left(\\frac{\\epsilon}{\\epsilon'}\\right)^{-2/9}\\left(\\frac{\\kappa}  {\\kappa'}  \\right)^{-2/9}$"
      ],
      "text/plain": [
       "<IPython.core.display.Math object>"
      ]
     },
     "metadata": {},
     "output_type": "display_data"
    },
    {
     "data": {
      "text/latex": [
       "$\\displaystyle \\frac{T}{T'} = \\left(\\frac{M}       {M'}       \\right)^{2/9}\\left(\\frac{\\mu}     {\\mu'}     \\right)^{7/18}\\left(\\frac{\\epsilon}{\\epsilon'}\\right)^{-1/18}\\left(\\frac{\\kappa}  {\\kappa'}  \\right)^{-1/18}$"
      ],
      "text/plain": [
       "<IPython.core.display.Math object>"
      ]
     },
     "metadata": {},
     "output_type": "display_data"
    },
    {
     "data": {
      "text/latex": [
       "$\\displaystyle \\frac{L}{L'} = \\left(\\frac{M}       {M'}       \\right)^{3}\\left(\\frac{\\mu}     {\\mu'}     \\right)^{4}\\left(\\frac{\\kappa}  {\\kappa'}  \\right)^{-1}$"
      ],
      "text/plain": [
       "<IPython.core.display.Math object>"
      ]
     },
     "metadata": {},
     "output_type": "display_data"
    }
   ],
   "source": [
    "_lambd = 1\n",
    "print('with an energy generation rate that scales linearly with density')\n",
    "\n",
    "for _nu in [4, 15]:\n",
    "    display((Eq(lambd, _lambd), Eq(nu, _nu)))\n",
    "    subs_dict = {alpha:_alpha, delta:_delta, phi:_phi, a:_a, b:_b, lambd:_lambd, nu:_nu}\n",
    "    display_system(subs_dict)\n",
    "    display_eqns(subs_dict)"
   ]
  },
  {
   "cell_type": "code",
   "execution_count": 22,
   "metadata": {},
   "outputs": [
    {
     "name": "stdout",
     "output_type": "stream",
     "text": [
      "...or, an opacity from Kramer's law\n"
     ]
    },
    {
     "data": {
      "image/png": "[encoded data removed]",
      "text/latex": [
       "$\\displaystyle \\left( a = 1, \\  b = - \\frac{9}{2}\\right)$"
      ],
      "text/plain": [
       "(a = 1, b = -9/2)"
      ]
     },
     "metadata": {},
     "output_type": "display_data"
    },
    {
     "data": {
      "text/latex": [
       "$\\displaystyle \\left( \\left[\\begin{matrix}z_{1}\\\\p_{1}\\\\t_{1}\\\\s_{1}\\end{matrix}\\right] = \\left[\\begin{matrix}\\frac{2 \\lambda + 2 \\nu - 9}{6 \\lambda + 2 \\nu - 1}\\\\\\frac{2 \\left(2 \\lambda - 2 \\nu + 17\\right)}{6 \\lambda + 2 \\nu - 1}\\\\\\frac{4 \\left(\\lambda + 2\\right)}{6 \\lambda + 2 \\nu - 1}\\\\\\frac{32 \\lambda + 10 \\nu - 1}{6 \\lambda + 2 \\nu - 1}\\end{matrix}\\right], \\  \\left[\\begin{matrix}z_{2}\\\\p_{2}\\\\t_{2}\\\\s_{2}\\end{matrix}\\right] = \\left[\\begin{matrix}\\frac{2 \\nu - 17}{6 \\lambda + 2 \\nu - 1}\\\\\\frac{4 \\left(17 - 2 \\nu\\right)}{6 \\lambda + 2 \\nu - 1}\\\\\\frac{2 \\left(3 \\lambda + 8\\right)}{6 \\lambda + 2 \\nu - 1}\\\\\\frac{51 \\lambda + 16 \\nu}{6 \\lambda + 2 \\nu - 1}\\end{matrix}\\right]\\right)$"
      ],
      "text/plain": [
       "⎛       ⎡  2⋅λ + 2⋅ν - 9   ⎤         ⎡   2⋅ν - 17  ⎤⎞\n",
       "⎜       ⎢  ─────────────   ⎥         ⎢─────────────⎥⎟\n",
       "⎜       ⎢  6⋅λ + 2⋅ν - 1   ⎥         ⎢6⋅λ + 2⋅ν - 1⎥⎟\n",
       "⎜       ⎢                  ⎥         ⎢             ⎥⎟\n",
       "⎜⎡z₁⎤   ⎢2⋅(2⋅λ - 2⋅ν + 17)⎥  ⎡z₂⎤   ⎢ 4⋅(17 - 2⋅ν)⎥⎟\n",
       "⎜⎢  ⎥   ⎢──────────────────⎥  ⎢  ⎥   ⎢─────────────⎥⎟\n",
       "⎜⎢p₁⎥   ⎢  6⋅λ + 2⋅ν - 1   ⎥  ⎢p₂⎥   ⎢6⋅λ + 2⋅ν - 1⎥⎟\n",
       "⎜⎢  ⎥ = ⎢                  ⎥, ⎢  ⎥ = ⎢             ⎥⎟\n",
       "⎜⎢t₁⎥   ⎢    4⋅(λ + 2)     ⎥  ⎢t₂⎥   ⎢ 2⋅(3⋅λ + 8) ⎥⎟\n",
       "⎜⎢  ⎥   ⎢  ─────────────   ⎥  ⎢  ⎥   ⎢─────────────⎥⎟\n",
       "⎜⎣s₁⎦   ⎢  6⋅λ + 2⋅ν - 1   ⎥  ⎣s₂⎦   ⎢6⋅λ + 2⋅ν - 1⎥⎟\n",
       "⎜       ⎢                  ⎥         ⎢             ⎥⎟\n",
       "⎜       ⎢ 32⋅λ + 10⋅ν - 1  ⎥         ⎢ 51⋅λ + 16⋅ν ⎥⎟\n",
       "⎜       ⎢ ───────────────  ⎥         ⎢─────────────⎥⎟\n",
       "⎝       ⎣  6⋅λ + 2⋅ν - 1   ⎦         ⎣6⋅λ + 2⋅ν - 1⎦⎠"
      ]
     },
     "metadata": {},
     "output_type": "display_data"
    },
    {
     "data": {
      "text/latex": [
       "$\\displaystyle \\left( \\left[\\begin{matrix}z_{3}\\\\p_{3}\\\\t_{3}\\\\s_{3}\\end{matrix}\\right] = \\left[\\begin{matrix}\\frac{2}{6 \\lambda + 2 \\nu - 1}\\\\- \\frac{8}{6 \\lambda + 2 \\nu - 1}\\\\- \\frac{2}{6 \\lambda + 2 \\nu - 1}\\\\- \\frac{1}{6 \\lambda + 2 \\nu - 1}\\end{matrix}\\right], \\  \\left[\\begin{matrix}z_{4}\\\\p_{4}\\\\t_{4}\\\\s_{4}\\end{matrix}\\right] = \\left[\\begin{matrix}\\frac{2}{6 \\lambda + 2 \\nu - 1}\\\\- \\frac{8}{6 \\lambda + 2 \\nu - 1}\\\\- \\frac{2}{6 \\lambda + 2 \\nu - 1}\\\\- \\frac{6 \\lambda + 2 \\nu}{6 \\lambda + 2 \\nu - 1}\\end{matrix}\\right]\\right)$"
      ],
      "text/plain": [
       "⎛       ⎡      2      ⎤         ⎡      2      ⎤⎞\n",
       "⎜       ⎢─────────────⎥         ⎢─────────────⎥⎟\n",
       "⎜       ⎢6⋅λ + 2⋅ν - 1⎥         ⎢6⋅λ + 2⋅ν - 1⎥⎟\n",
       "⎜       ⎢             ⎥         ⎢             ⎥⎟\n",
       "⎜⎡z₃⎤   ⎢     -8      ⎥  ⎡z₄⎤   ⎢     -8      ⎥⎟\n",
       "⎜⎢  ⎥   ⎢─────────────⎥  ⎢  ⎥   ⎢─────────────⎥⎟\n",
       "⎜⎢p₃⎥   ⎢6⋅λ + 2⋅ν - 1⎥  ⎢p₄⎥   ⎢6⋅λ + 2⋅ν - 1⎥⎟\n",
       "⎜⎢  ⎥ = ⎢             ⎥, ⎢  ⎥ = ⎢             ⎥⎟\n",
       "⎜⎢t₃⎥   ⎢     -2      ⎥  ⎢t₄⎥   ⎢     -2      ⎥⎟\n",
       "⎜⎢  ⎥   ⎢─────────────⎥  ⎢  ⎥   ⎢─────────────⎥⎟\n",
       "⎜⎣s₃⎦   ⎢6⋅λ + 2⋅ν - 1⎥  ⎣s₄⎦   ⎢6⋅λ + 2⋅ν - 1⎥⎟\n",
       "⎜       ⎢             ⎥         ⎢             ⎥⎟\n",
       "⎜       ⎢     -1      ⎥         ⎢-(6⋅λ + 2⋅ν) ⎥⎟\n",
       "⎜       ⎢─────────────⎥         ⎢─────────────⎥⎟\n",
       "⎝       ⎣6⋅λ + 2⋅ν - 1⎦         ⎣6⋅λ + 2⋅ν - 1⎦⎠"
      ]
     },
     "metadata": {},
     "output_type": "display_data"
    },
    {
     "name": "stdout",
     "output_type": "stream",
     "text": [
      "now again assuming an energy generation rate that scales linearly with density\n"
     ]
    },
    {
     "data": {
      "image/png": "[encoded data removed]",
      "text/latex": [
       "$\\displaystyle \\lambda = 1$"
      ],
      "text/plain": [
       "λ = 1"
      ]
     },
     "metadata": {},
     "output_type": "display_data"
    },
    {
     "data": {
      "image/png": "[encoded data removed]",
      "text/latex": [
       "$\\displaystyle \\left( \\lambda = 1, \\  \\nu = 4\\right)$"
      ],
      "text/plain": [
       "(λ = 1, ν = 4)"
      ]
     },
     "metadata": {},
     "output_type": "display_data"
    },
    {
     "data": {
      "text/latex": [
       "$\\displaystyle \\left( \\left[\\begin{matrix}z_{1}\\\\p_{1}\\\\t_{1}\\\\s_{1}\\end{matrix}\\right] = \\left[\\begin{matrix}\\frac{1}{13}\\\\\\frac{22}{13}\\\\\\frac{12}{13}\\\\\\frac{71}{13}\\end{matrix}\\right], \\  \\left[\\begin{matrix}z_{2}\\\\p_{2}\\\\t_{2}\\\\s_{2}\\end{matrix}\\right] = \\left[\\begin{matrix}- \\frac{9}{13}\\\\\\frac{36}{13}\\\\\\frac{22}{13}\\\\\\frac{115}{13}\\end{matrix}\\right]\\right)$"
      ],
      "text/plain": [
       "⎛       ⎡1/13⎤         ⎡-9/13⎤⎞\n",
       "⎜       ⎢    ⎥         ⎢     ⎥⎟\n",
       "⎜       ⎢ 22 ⎥         ⎢ 36  ⎥⎟\n",
       "⎜⎡z₁⎤   ⎢ ── ⎥  ⎡z₂⎤   ⎢ ──  ⎥⎟\n",
       "⎜⎢  ⎥   ⎢ 13 ⎥  ⎢  ⎥   ⎢ 13  ⎥⎟\n",
       "⎜⎢p₁⎥   ⎢    ⎥  ⎢p₂⎥   ⎢     ⎥⎟\n",
       "⎜⎢  ⎥ = ⎢ 12 ⎥, ⎢  ⎥ = ⎢ 22  ⎥⎟\n",
       "⎜⎢t₁⎥   ⎢ ── ⎥  ⎢t₂⎥   ⎢ ──  ⎥⎟\n",
       "⎜⎢  ⎥   ⎢ 13 ⎥  ⎢  ⎥   ⎢ 13  ⎥⎟\n",
       "⎜⎣s₁⎦   ⎢    ⎥  ⎣s₂⎦   ⎢     ⎥⎟\n",
       "⎜       ⎢ 71 ⎥         ⎢ 115 ⎥⎟\n",
       "⎜       ⎢ ── ⎥         ⎢ ─── ⎥⎟\n",
       "⎝       ⎣ 13 ⎦         ⎣  13 ⎦⎠"
      ]
     },
     "metadata": {},
     "output_type": "display_data"
    },
    {
     "data": {
      "text/latex": [
       "$\\displaystyle \\left( \\left[\\begin{matrix}z_{3}\\\\p_{3}\\\\t_{3}\\\\s_{3}\\end{matrix}\\right] = \\left[\\begin{matrix}\\frac{2}{13}\\\\- \\frac{8}{13}\\\\- \\frac{2}{13}\\\\- \\frac{1}{13}\\end{matrix}\\right], \\  \\left[\\begin{matrix}z_{4}\\\\p_{4}\\\\t_{4}\\\\s_{4}\\end{matrix}\\right] = \\left[\\begin{matrix}\\frac{2}{13}\\\\- \\frac{8}{13}\\\\- \\frac{2}{13}\\\\- \\frac{14}{13}\\end{matrix}\\right]\\right)$"
      ],
      "text/plain": [
       "⎛                       ⎡2/13 ⎤⎞\n",
       "⎜⎡z₃⎤   ⎡2/13 ⎤  ⎡z₄⎤   ⎢     ⎥⎟\n",
       "⎜⎢  ⎥   ⎢     ⎥  ⎢  ⎥   ⎢-8/13⎥⎟\n",
       "⎜⎢p₃⎥   ⎢-8/13⎥  ⎢p₄⎥   ⎢     ⎥⎟\n",
       "⎜⎢  ⎥ = ⎢     ⎥, ⎢  ⎥ = ⎢-2/13⎥⎟\n",
       "⎜⎢t₃⎥   ⎢-2/13⎥  ⎢t₄⎥   ⎢     ⎥⎟\n",
       "⎜⎢  ⎥   ⎢     ⎥  ⎢  ⎥   ⎢-14  ⎥⎟\n",
       "⎜⎣s₃⎦   ⎣-1/13⎦  ⎣s₄⎦   ⎢──── ⎥⎟\n",
       "⎝                       ⎣ 13  ⎦⎠"
      ]
     },
     "metadata": {},
     "output_type": "display_data"
    },
    {
     "data": {
      "text/latex": [
       "$\\displaystyle \\frac{R}{R'} = \\left(\\frac{M}       {M'}       \\right)^{1/13}\\left(\\frac{\\mu}     {\\mu'}     \\right)^{-9/13}\\left(\\frac{\\epsilon}{\\epsilon'}\\right)^{2/13}\\left(\\frac{\\kappa}  {\\kappa'}  \\right)^{2/13}$"
      ],
      "text/plain": [
       "<IPython.core.display.Math object>"
      ]
     },
     "metadata": {},
     "output_type": "display_data"
    },
    {
     "data": {
      "text/latex": [
       "$\\displaystyle \\frac{P}{P'} = \\left(\\frac{M}       {M'}       \\right)^{22/13}\\left(\\frac{\\mu}     {\\mu'}     \\right)^{36/13}\\left(\\frac{\\epsilon}{\\epsilon'}\\right)^{-8/13}\\left(\\frac{\\kappa}  {\\kappa'}  \\right)^{-8/13}$"
      ],
      "text/plain": [
       "<IPython.core.display.Math object>"
      ]
     },
     "metadata": {},
     "output_type": "display_data"
    },
    {
     "data": {
      "text/latex": [
       "$\\displaystyle \\frac{T}{T'} = \\left(\\frac{M}       {M'}       \\right)^{12/13}\\left(\\frac{\\mu}     {\\mu'}     \\right)^{22/13}\\left(\\frac{\\epsilon}{\\epsilon'}\\right)^{-2/13}\\left(\\frac{\\kappa}  {\\kappa'}  \\right)^{-2/13}$"
      ],
      "text/plain": [
       "<IPython.core.display.Math object>"
      ]
     },
     "metadata": {},
     "output_type": "display_data"
    },
    {
     "data": {
      "text/latex": [
       "$\\displaystyle \\frac{L}{L'} = \\left(\\frac{M}       {M'}       \\right)^{71/13}\\left(\\frac{\\mu}     {\\mu'}     \\right)^{115/13}\\left(\\frac{\\epsilon}{\\epsilon'}\\right)^{-1/13}\\left(\\frac{\\kappa}  {\\kappa'}  \\right)^{-14/13}$"
      ],
      "text/plain": [
       "<IPython.core.display.Math object>"
      ]
     },
     "metadata": {},
     "output_type": "display_data"
    },
    {
     "data": {
      "image/png": "[encoded data removed]",
      "text/latex": [
       "$\\displaystyle \\left( \\lambda = 1, \\  \\nu = 15\\right)$"
      ],
      "text/plain": [
       "(λ = 1, ν = 15)"
      ]
     },
     "metadata": {},
     "output_type": "display_data"
    },
    {
     "data": {
      "text/latex": [
       "$\\displaystyle \\left( \\left[\\begin{matrix}z_{1}\\\\p_{1}\\\\t_{1}\\\\s_{1}\\end{matrix}\\right] = \\left[\\begin{matrix}\\frac{23}{35}\\\\- \\frac{22}{35}\\\\\\frac{12}{35}\\\\\\frac{181}{35}\\end{matrix}\\right], \\  \\left[\\begin{matrix}z_{2}\\\\p_{2}\\\\t_{2}\\\\s_{2}\\end{matrix}\\right] = \\left[\\begin{matrix}\\frac{13}{35}\\\\- \\frac{52}{35}\\\\\\frac{22}{35}\\\\\\frac{291}{35}\\end{matrix}\\right]\\right)$"
      ],
      "text/plain": [
       "⎛       ⎡ 23 ⎤         ⎡ 13 ⎤⎞\n",
       "⎜       ⎢ ── ⎥         ⎢ ── ⎥⎟\n",
       "⎜       ⎢ 35 ⎥         ⎢ 35 ⎥⎟\n",
       "⎜       ⎢    ⎥         ⎢    ⎥⎟\n",
       "⎜⎡z₁⎤   ⎢-22 ⎥  ⎡z₂⎤   ⎢-52 ⎥⎟\n",
       "⎜⎢  ⎥   ⎢────⎥  ⎢  ⎥   ⎢────⎥⎟\n",
       "⎜⎢p₁⎥   ⎢ 35 ⎥  ⎢p₂⎥   ⎢ 35 ⎥⎟\n",
       "⎜⎢  ⎥ = ⎢    ⎥, ⎢  ⎥ = ⎢    ⎥⎟\n",
       "⎜⎢t₁⎥   ⎢ 12 ⎥  ⎢t₂⎥   ⎢ 22 ⎥⎟\n",
       "⎜⎢  ⎥   ⎢ ── ⎥  ⎢  ⎥   ⎢ ── ⎥⎟\n",
       "⎜⎣s₁⎦   ⎢ 35 ⎥  ⎣s₂⎦   ⎢ 35 ⎥⎟\n",
       "⎜       ⎢    ⎥         ⎢    ⎥⎟\n",
       "⎜       ⎢181 ⎥         ⎢291 ⎥⎟\n",
       "⎜       ⎢─── ⎥         ⎢─── ⎥⎟\n",
       "⎝       ⎣ 35 ⎦         ⎣ 35 ⎦⎠"
      ]
     },
     "metadata": {},
     "output_type": "display_data"
    },
    {
     "data": {
      "text/latex": [
       "$\\displaystyle \\left( \\left[\\begin{matrix}z_{3}\\\\p_{3}\\\\t_{3}\\\\s_{3}\\end{matrix}\\right] = \\left[\\begin{matrix}\\frac{2}{35}\\\\- \\frac{8}{35}\\\\- \\frac{2}{35}\\\\- \\frac{1}{35}\\end{matrix}\\right], \\  \\left[\\begin{matrix}z_{4}\\\\p_{4}\\\\t_{4}\\\\s_{4}\\end{matrix}\\right] = \\left[\\begin{matrix}\\frac{2}{35}\\\\- \\frac{8}{35}\\\\- \\frac{2}{35}\\\\- \\frac{36}{35}\\end{matrix}\\right]\\right)$"
      ],
      "text/plain": [
       "⎛                       ⎡2/35 ⎤⎞\n",
       "⎜⎡z₃⎤   ⎡2/35 ⎤  ⎡z₄⎤   ⎢     ⎥⎟\n",
       "⎜⎢  ⎥   ⎢     ⎥  ⎢  ⎥   ⎢-8/35⎥⎟\n",
       "⎜⎢p₃⎥   ⎢-8/35⎥  ⎢p₄⎥   ⎢     ⎥⎟\n",
       "⎜⎢  ⎥ = ⎢     ⎥, ⎢  ⎥ = ⎢-2/35⎥⎟\n",
       "⎜⎢t₃⎥   ⎢-2/35⎥  ⎢t₄⎥   ⎢     ⎥⎟\n",
       "⎜⎢  ⎥   ⎢     ⎥  ⎢  ⎥   ⎢-36  ⎥⎟\n",
       "⎜⎣s₃⎦   ⎣-1/35⎦  ⎣s₄⎦   ⎢──── ⎥⎟\n",
       "⎝                       ⎣ 35  ⎦⎠"
      ]
     },
     "metadata": {},
     "output_type": "display_data"
    },
    {
     "data": {
      "text/latex": [
       "$\\displaystyle \\frac{R}{R'} = \\left(\\frac{M}       {M'}       \\right)^{23/35}\\left(\\frac{\\mu}     {\\mu'}     \\right)^{13/35}\\left(\\frac{\\epsilon}{\\epsilon'}\\right)^{2/35}\\left(\\frac{\\kappa}  {\\kappa'}  \\right)^{2/35}$"
      ],
      "text/plain": [
       "<IPython.core.display.Math object>"
      ]
     },
     "metadata": {},
     "output_type": "display_data"
    },
    {
     "data": {
      "text/latex": [
       "$\\displaystyle \\frac{P}{P'} = \\left(\\frac{M}       {M'}       \\right)^{-22/35}\\left(\\frac{\\mu}     {\\mu'}     \\right)^{-52/35}\\left(\\frac{\\epsilon}{\\epsilon'}\\right)^{-8/35}\\left(\\frac{\\kappa}  {\\kappa'}  \\right)^{-8/35}$"
      ],
      "text/plain": [
       "<IPython.core.display.Math object>"
      ]
     },
     "metadata": {},
     "output_type": "display_data"
    },
    {
     "data": {
      "text/latex": [
       "$\\displaystyle \\frac{T}{T'} = \\left(\\frac{M}       {M'}       \\right)^{12/35}\\left(\\frac{\\mu}     {\\mu'}     \\right)^{22/35}\\left(\\frac{\\epsilon}{\\epsilon'}\\right)^{-2/35}\\left(\\frac{\\kappa}  {\\kappa'}  \\right)^{-2/35}$"
      ],
      "text/plain": [
       "<IPython.core.display.Math object>"
      ]
     },
     "metadata": {},
     "output_type": "display_data"
    },
    {
     "data": {
      "text/latex": [
       "$\\displaystyle \\frac{L}{L'} = \\left(\\frac{M}       {M'}       \\right)^{181/35}\\left(\\frac{\\mu}     {\\mu'}     \\right)^{291/35}\\left(\\frac{\\epsilon}{\\epsilon'}\\right)^{-1/35}\\left(\\frac{\\kappa}  {\\kappa'}  \\right)^{-36/35}$"
      ],
      "text/plain": [
       "<IPython.core.display.Math object>"
      ]
     },
     "metadata": {},
     "output_type": "display_data"
    }
   ],
   "source": [
    "print(\"...or, an opacity from Kramer's law\")\n",
    "_a = 1\n",
    "_b = Rational(-9, 2)\n",
    "display((Eq(a, _a),\n",
    "         Eq(b, _b)))\n",
    "\n",
    "subs_dict = {alpha:_alpha, delta:_delta, phi:_phi, a:_a, b:_b}\n",
    "display_system(subs_dict)\n",
    "\n",
    "_lambd = 1\n",
    "print('now again assuming an energy generation rate that scales linearly with density')\n",
    "display(Eq(lambd, _lambd))\n",
    "\n",
    "for _nu in [4, 15]:\n",
    "    display((Eq(lambd, _lambd), Eq(nu, _nu)))\n",
    "    subs_dict = {alpha:_alpha, delta:_delta, phi:_phi, a:_a, b:_b, lambd:_lambd, nu:_nu}\n",
    "    display_system(subs_dict)\n",
    "    display_eqns(subs_dict)"
   ]
  },
  {
   "cell_type": "code",
   "execution_count": null,
   "metadata": {},
   "outputs": [],
   "source": []
  }
 ],
 "metadata": {
  "kernelspec": {
   "display_name": "Python 3",
   "language": "python",
   "name": "python3"
  },
  "language_info": {
   "codemirror_mode": {
    "name": "ipython",
    "version": 3
   },
   "file_extension": ".py",
   "mimetype": "text/x-python",
   "name": "python",
   "nbconvert_exporter": "python",
   "pygments_lexer": "ipython3",
   "version": "3.8.3"
  }
 },
 "nbformat": 4,
 "nbformat_minor": 2
}
